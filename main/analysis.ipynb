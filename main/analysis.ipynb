{
 "cells": [
  {
   "cell_type": "markdown",
   "source": [
    "# Health Insurance Cross Sell Prediction Predictive Analysis"
   ],
   "metadata": {}
  },
  {
   "cell_type": "code",
   "execution_count": 1,
   "source": [
    "from data_loader import DataLoader\n",
    "import matplotlib.pyplot as plt\n",
    "%matplotlib inline"
   ],
   "outputs": [],
   "metadata": {}
  },
  {
   "cell_type": "code",
   "execution_count": 2,
   "source": [
    "# Load data\n",
    "train_url = \"https://raw.githubusercontent.com/Mkho-cs/HICSP-Predictive-Analysis/main/dataset/train.csv\"\n",
    "test_url = \"https://raw.githubusercontent.com/Mkho-cs/HICSP-Predictive-Analysis/main/dataset/test.csv\"\n",
    "train_data = DataLoader(train_url)\n",
    "test_data = DataLoader(test_url)"
   ],
   "outputs": [],
   "metadata": {}
  },
  {
   "cell_type": "markdown",
   "source": [
    "## Data Transformation & Descriptive Analysis"
   ],
   "metadata": {}
  },
  {
   "cell_type": "code",
   "execution_count": 3,
   "source": [
    "# Data transformation starts here\n",
    "\"\"\"\n",
    "From the training data description, we can find features that are not important for training.\n",
    "Hence, drop the following: id, Policy_Sales_Channel\n",
    "\"\"\"\n",
    "dropped = ['id', 'Policy_Sales_Channel']\n",
    "train_data.drop_column(dropped)\n"
   ],
   "outputs": [],
   "metadata": {}
  },
  {
   "cell_type": "code",
   "execution_count": 4,
   "source": [
    "train_data.display(10, True)\n"
   ],
   "outputs": [
    {
     "output_type": "execute_result",
     "data": {
      "text/html": [
       "<div>\n",
       "<style scoped>\n",
       "    .dataframe tbody tr th:only-of-type {\n",
       "        vertical-align: middle;\n",
       "    }\n",
       "\n",
       "    .dataframe tbody tr th {\n",
       "        vertical-align: top;\n",
       "    }\n",
       "\n",
       "    .dataframe thead th {\n",
       "        text-align: right;\n",
       "    }\n",
       "</style>\n",
       "<table border=\"1\" class=\"dataframe\">\n",
       "  <thead>\n",
       "    <tr style=\"text-align: right;\">\n",
       "      <th></th>\n",
       "      <th>Gender</th>\n",
       "      <th>Age</th>\n",
       "      <th>Driving_License</th>\n",
       "      <th>Region_Code</th>\n",
       "      <th>Previously_Insured</th>\n",
       "      <th>Vehicle_Age</th>\n",
       "      <th>Vehicle_Damage</th>\n",
       "      <th>Annual_Premium</th>\n",
       "      <th>Vintage</th>\n",
       "      <th>Response</th>\n",
       "    </tr>\n",
       "  </thead>\n",
       "  <tbody>\n",
       "    <tr>\n",
       "      <th>0</th>\n",
       "      <td>Male</td>\n",
       "      <td>44</td>\n",
       "      <td>1</td>\n",
       "      <td>28.0</td>\n",
       "      <td>0</td>\n",
       "      <td>&gt; 2 Years</td>\n",
       "      <td>Yes</td>\n",
       "      <td>40454.0</td>\n",
       "      <td>217</td>\n",
       "      <td>1</td>\n",
       "    </tr>\n",
       "    <tr>\n",
       "      <th>1</th>\n",
       "      <td>Male</td>\n",
       "      <td>76</td>\n",
       "      <td>1</td>\n",
       "      <td>3.0</td>\n",
       "      <td>0</td>\n",
       "      <td>1-2 Year</td>\n",
       "      <td>No</td>\n",
       "      <td>33536.0</td>\n",
       "      <td>183</td>\n",
       "      <td>0</td>\n",
       "    </tr>\n",
       "    <tr>\n",
       "      <th>2</th>\n",
       "      <td>Male</td>\n",
       "      <td>47</td>\n",
       "      <td>1</td>\n",
       "      <td>28.0</td>\n",
       "      <td>0</td>\n",
       "      <td>&gt; 2 Years</td>\n",
       "      <td>Yes</td>\n",
       "      <td>38294.0</td>\n",
       "      <td>27</td>\n",
       "      <td>1</td>\n",
       "    </tr>\n",
       "    <tr>\n",
       "      <th>3</th>\n",
       "      <td>Male</td>\n",
       "      <td>21</td>\n",
       "      <td>1</td>\n",
       "      <td>11.0</td>\n",
       "      <td>1</td>\n",
       "      <td>&lt; 1 Year</td>\n",
       "      <td>No</td>\n",
       "      <td>28619.0</td>\n",
       "      <td>203</td>\n",
       "      <td>0</td>\n",
       "    </tr>\n",
       "    <tr>\n",
       "      <th>4</th>\n",
       "      <td>Female</td>\n",
       "      <td>29</td>\n",
       "      <td>1</td>\n",
       "      <td>41.0</td>\n",
       "      <td>1</td>\n",
       "      <td>&lt; 1 Year</td>\n",
       "      <td>No</td>\n",
       "      <td>27496.0</td>\n",
       "      <td>39</td>\n",
       "      <td>0</td>\n",
       "    </tr>\n",
       "    <tr>\n",
       "      <th>5</th>\n",
       "      <td>Female</td>\n",
       "      <td>24</td>\n",
       "      <td>1</td>\n",
       "      <td>33.0</td>\n",
       "      <td>0</td>\n",
       "      <td>&lt; 1 Year</td>\n",
       "      <td>Yes</td>\n",
       "      <td>2630.0</td>\n",
       "      <td>176</td>\n",
       "      <td>0</td>\n",
       "    </tr>\n",
       "    <tr>\n",
       "      <th>6</th>\n",
       "      <td>Male</td>\n",
       "      <td>23</td>\n",
       "      <td>1</td>\n",
       "      <td>11.0</td>\n",
       "      <td>0</td>\n",
       "      <td>&lt; 1 Year</td>\n",
       "      <td>Yes</td>\n",
       "      <td>23367.0</td>\n",
       "      <td>249</td>\n",
       "      <td>0</td>\n",
       "    </tr>\n",
       "    <tr>\n",
       "      <th>7</th>\n",
       "      <td>Female</td>\n",
       "      <td>56</td>\n",
       "      <td>1</td>\n",
       "      <td>28.0</td>\n",
       "      <td>0</td>\n",
       "      <td>1-2 Year</td>\n",
       "      <td>Yes</td>\n",
       "      <td>32031.0</td>\n",
       "      <td>72</td>\n",
       "      <td>1</td>\n",
       "    </tr>\n",
       "    <tr>\n",
       "      <th>8</th>\n",
       "      <td>Female</td>\n",
       "      <td>24</td>\n",
       "      <td>1</td>\n",
       "      <td>3.0</td>\n",
       "      <td>1</td>\n",
       "      <td>&lt; 1 Year</td>\n",
       "      <td>No</td>\n",
       "      <td>27619.0</td>\n",
       "      <td>28</td>\n",
       "      <td>0</td>\n",
       "    </tr>\n",
       "    <tr>\n",
       "      <th>9</th>\n",
       "      <td>Female</td>\n",
       "      <td>32</td>\n",
       "      <td>1</td>\n",
       "      <td>6.0</td>\n",
       "      <td>1</td>\n",
       "      <td>&lt; 1 Year</td>\n",
       "      <td>No</td>\n",
       "      <td>28771.0</td>\n",
       "      <td>80</td>\n",
       "      <td>0</td>\n",
       "    </tr>\n",
       "  </tbody>\n",
       "</table>\n",
       "</div>"
      ],
      "text/plain": [
       "   Gender  Age  Driving_License  Region_Code  Previously_Insured Vehicle_Age  \\\n",
       "0    Male   44                1         28.0                   0   > 2 Years   \n",
       "1    Male   76                1          3.0                   0    1-2 Year   \n",
       "2    Male   47                1         28.0                   0   > 2 Years   \n",
       "3    Male   21                1         11.0                   1    < 1 Year   \n",
       "4  Female   29                1         41.0                   1    < 1 Year   \n",
       "5  Female   24                1         33.0                   0    < 1 Year   \n",
       "6    Male   23                1         11.0                   0    < 1 Year   \n",
       "7  Female   56                1         28.0                   0    1-2 Year   \n",
       "8  Female   24                1          3.0                   1    < 1 Year   \n",
       "9  Female   32                1          6.0                   1    < 1 Year   \n",
       "\n",
       "  Vehicle_Damage  Annual_Premium  Vintage  Response  \n",
       "0            Yes         40454.0      217         1  \n",
       "1             No         33536.0      183         0  \n",
       "2            Yes         38294.0       27         1  \n",
       "3             No         28619.0      203         0  \n",
       "4             No         27496.0       39         0  \n",
       "5            Yes          2630.0      176         0  \n",
       "6            Yes         23367.0      249         0  \n",
       "7            Yes         32031.0       72         1  \n",
       "8             No         27619.0       28         0  \n",
       "9             No         28771.0       80         0  "
      ]
     },
     "metadata": {},
     "execution_count": 4
    }
   ],
   "metadata": {}
  },
  {
   "cell_type": "code",
   "execution_count": 5,
   "source": [
    "\"\"\"\n",
    "Variables can be broadly divided into numerical and categorical\n",
    "Pandas automatically identifies the data type after loading,\n",
    "but they are not usually identified as categorical (e.g. 1's and 0's are integers)\n",
    "\n",
    "Hence, some variables must be coverted manually.\n",
    "\"\"\"\n",
    "# First, check the types from default data loading\n",
    "train_data.display_types()"
   ],
   "outputs": [
    {
     "output_type": "execute_result",
     "data": {
      "text/plain": [
       "Gender                 object\n",
       "Age                     int64\n",
       "Driving_License         int64\n",
       "Region_Code           float64\n",
       "Previously_Insured      int64\n",
       "Vehicle_Age            object\n",
       "Vehicle_Damage         object\n",
       "Annual_Premium        float64\n",
       "Vintage                 int64\n",
       "Response                int64\n",
       "dtype: object"
      ]
     },
     "metadata": {},
     "execution_count": 5
    }
   ],
   "metadata": {}
  },
  {
   "cell_type": "code",
   "execution_count": 6,
   "source": [
    "# Change selected columns to categorical\n",
    "cols_to_cat = ['Gender', 'Driving_License', 'Region_Code', 'Previously_Insured', 'Vehicle_Age', 'Vehicle_Damage', 'Response']\n",
    "train_data.column_to_cat(cols_to_cat)\n",
    "train_data.display_types()"
   ],
   "outputs": [
    {
     "output_type": "execute_result",
     "data": {
      "text/plain": [
       "Gender                category\n",
       "Age                      int64\n",
       "Driving_License       category\n",
       "Region_Code           category\n",
       "Previously_Insured    category\n",
       "Vehicle_Age           category\n",
       "Vehicle_Damage        category\n",
       "Annual_Premium         float64\n",
       "Vintage                  int64\n",
       "Response              category\n",
       "dtype: object"
      ]
     },
     "metadata": {},
     "execution_count": 6
    }
   ],
   "metadata": {}
  },
  {
   "cell_type": "code",
   "execution_count": 7,
   "source": [
    "# Analysze the frequency of each unique value in respective columns (for categorical variables)\n",
    "col_unique_freq = train_data.get_col_unique_freq()\n",
    "for col in col_unique_freq: print(col, '\\n')"
   ],
   "outputs": [
    {
     "output_type": "stream",
     "name": "stdout",
     "text": [
      "Gender\n",
      "Female    175020\n",
      "Male      206089\n",
      "dtype: int64 \n",
      "\n",
      "Driving_License\n",
      "0       812\n",
      "1    380297\n",
      "dtype: int64 \n",
      "\n",
      "Region_Code\n",
      "0.0       2021\n",
      "1.0       1008\n",
      "2.0       4038\n",
      "3.0       9251\n",
      "4.0       1801\n",
      "5.0       1279\n",
      "6.0       6280\n",
      "7.0       3279\n",
      "8.0      33877\n",
      "9.0       3101\n",
      "10.0      4374\n",
      "11.0      9232\n",
      "12.0      3198\n",
      "13.0      4036\n",
      "14.0      4678\n",
      "15.0     13308\n",
      "16.0      2007\n",
      "17.0      2617\n",
      "18.0      5153\n",
      "19.0      1535\n",
      "20.0      1935\n",
      "21.0      4266\n",
      "22.0      1309\n",
      "23.0      1960\n",
      "24.0      2415\n",
      "25.0      2503\n",
      "26.0      2587\n",
      "27.0      2823\n",
      "28.0    106415\n",
      "29.0     11065\n",
      "30.0     12191\n",
      "31.0      1960\n",
      "32.0      2787\n",
      "33.0      7654\n",
      "34.0      1664\n",
      "35.0      6942\n",
      "36.0      8797\n",
      "37.0      5501\n",
      "38.0      2026\n",
      "39.0      4644\n",
      "40.0      1295\n",
      "41.0     18263\n",
      "42.0       591\n",
      "43.0      2639\n",
      "44.0       808\n",
      "45.0      5605\n",
      "46.0     19749\n",
      "47.0      7436\n",
      "48.0      4681\n",
      "49.0      1832\n",
      "50.0     10243\n",
      "51.0       183\n",
      "52.0       267\n",
      "dtype: int64 \n",
      "\n",
      "Previously_Insured\n",
      "0    206481\n",
      "1    174628\n",
      "dtype: int64 \n",
      "\n",
      "Vehicle_Age\n",
      "1-2 Year     200316\n",
      "< 1 Year     164786\n",
      "> 2 Years     16007\n",
      "dtype: int64 \n",
      "\n",
      "Vehicle_Damage\n",
      "No     188696\n",
      "Yes    192413\n",
      "dtype: int64 \n",
      "\n",
      "Response\n",
      "0    334399\n",
      "1     46710\n",
      "dtype: int64 \n",
      "\n"
     ]
    }
   ],
   "metadata": {}
  },
  {
   "cell_type": "code",
   "execution_count": 8,
   "source": [
    "# Distribution plot of categorical columns\n",
    "\"\"\"\n",
    "The data for categorical variables seems to be well-distributed for the exception of Driving_License\n",
    "However, upon close inspection on the table form, there is some count of records with Driving_License = 0\n",
    "Hence, all categorical features here will be used.\n",
    "\"\"\"\n",
    "train_data.create_subplots(col_unique_freq, 3)\n"
   ],
   "outputs": [
    {
     "output_type": "display_data",
     "data": {
      "image/png": "[encoded data removed]",
      "text/plain": [
       "<Figure size 1728x1728 with 9 Axes>"
      ]
     },
     "metadata": {
      "needs_background": "light"
     }
    }
   ],
   "metadata": {}
  },
  {
   "cell_type": "markdown",
   "source": [
    "## Prepare Data for Modelling"
   ],
   "metadata": {}
  },
  {
   "cell_type": "code",
   "execution_count": 9,
   "source": [
    "from sklearn.model_selection import train_test_split\n",
    "from utils import create_pipeline, create_cat_encoder,create_minmax_scaler, pipeline_fit_transform"
   ],
   "outputs": [],
   "metadata": {}
  },
  {
   "cell_type": "code",
   "execution_count": 10,
   "source": [
    "y = train_data.data.Response\n",
    "train_data.drop_column(['Response'])    # remove dependent variable from training"
   ],
   "outputs": [],
   "metadata": {}
  },
  {
   "cell_type": "code",
   "execution_count": 11,
   "source": [
    "# Training data preparation pipeline\n",
    "cols_cat = ['Gender', 'Driving_License', 'Region_Code', 'Previously_Insured', 'Vehicle_Age', 'Vehicle_Damage']\n",
    "cat_encoder = create_cat_encoder(cols_cat)  # encoder for categorical variables\n",
    "scaler = create_minmax_scaler() # minmax normalization\n",
    "prep_pipeline = create_pipeline([(\"cat_encoder\", cat_encoder), (\"scaler\", scaler)])\n",
    "train_prep = pipeline_fit_transform(prep_pipeline, train_data.data)\n"
   ],
   "outputs": [],
   "metadata": {}
  },
  {
   "cell_type": "code",
   "execution_count": 12,
   "source": [
    "\"\"\"\n",
    "The training dataset is large enough to create a single validation set\n",
    "Tesing dataset will be used for inference only (there is no 'Response' column)\n",
    "\"\"\"\n",
    "# Split 75-25 for train-validate sets \n",
    "x_train, x_val, y_train, y_val = train_test_split(train_prep, y, random_state=1234) \n",
    "print(x_train.shape, x_val.shape, sep='\\n')"
   ],
   "outputs": [
    {
     "output_type": "stream",
     "name": "stdout",
     "text": [
      "(285831, 9)\n",
      "(95278, 9)\n"
     ]
    }
   ],
   "metadata": {}
  },
  {
   "cell_type": "markdown",
   "source": [
    "## Predictive Modelling"
   ],
   "metadata": {}
  },
  {
   "cell_type": "code",
   "execution_count": 13,
   "source": [
    "\"\"\"\n",
    "This section will be mostly experimenting with different predictive models.\n",
    "The ROC-AUC score metrics will be used since dataset is imbalanced (significant difference of 0's and 1's in Response)\n",
    "\"\"\"\n",
    "# Predictive modelling starts here\n",
    "\n"
   ],
   "outputs": [
    {
     "output_type": "execute_result",
     "data": {
      "text/plain": [
       "\"\\nThis section will be mostly experimenting with different predictive models.\\nThe ROC-AUC score metrics will be used since dataset is imbalanced (significant difference of 0's and 1's in Response)\\n\""
      ]
     },
     "metadata": {},
     "execution_count": 13
    }
   ],
   "metadata": {}
  }
 ],
 "metadata": {
  "kernelspec": {
   "name": "python3",
   "display_name": "Python 3.8.12 64-bit ('predictive': conda)"
  },
  "language_info": {
   "codemirror_mode": {
    "name": "ipython",
    "version": 3
   },
   "file_extension": ".py",
   "mimetype": "text/x-python",
   "name": "python",
   "nbconvert_exporter": "python",
   "pygments_lexer": "ipython3",
   "version": "3.8.12"
  },
  "interpreter": {
   "hash": "716950cba88e4d332b35c8ddd4e849e4d8a5dadfbf33d00dfe2f47b77ad17c80"
  }
 },
 "nbformat": 4,
 "nbformat_minor": 5
}