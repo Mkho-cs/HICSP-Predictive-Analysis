{
 "cells": [
  {
   "cell_type": "markdown",
   "source": [
    "# Health Insurance Cross Sell Prediction Predictive Analysis"
   ],
   "metadata": {}
  },
  {
   "cell_type": "code",
   "execution_count": 1,
   "source": [
    "# Import packages\n",
    "from data_loader import DataLoader"
   ],
   "outputs": [],
   "metadata": {}
  },
  {
   "cell_type": "code",
   "execution_count": 2,
   "source": [
    "# Load data\n",
    "train_url = \"https://raw.githubusercontent.com/Mkho-cs/HICSP-Predictive-Analysis/main/dataset/train.csv\"\n",
    "test_url = \"https://raw.githubusercontent.com/Mkho-cs/HICSP-Predictive-Analysis/main/dataset/test.csv\"\n",
    "train_data = DataLoader(train_url)\n",
    "test_data = DataLoader(test_url)"
   ],
   "outputs": [],
   "metadata": {}
  },
  {
   "cell_type": "markdown",
   "source": [
    "## Descriptive Analysis"
   ],
   "metadata": {}
  },
  {
   "cell_type": "code",
   "execution_count": null,
   "source": [
    "# Descriptive analysis starts here\n",
    "train_data.display(10, True)"
   ],
   "outputs": [],
   "metadata": {}
  },
  {
   "cell_type": "code",
   "execution_count": null,
   "source": [
    "test_data.display(10, False)"
   ],
   "outputs": [],
   "metadata": {}
  },
  {
   "cell_type": "code",
   "execution_count": null,
   "source": [
    "train_data.describe()"
   ],
   "outputs": [],
   "metadata": {}
  },
  {
   "cell_type": "markdown",
   "source": [
    "## Data Transformation"
   ],
   "metadata": {}
  },
  {
   "cell_type": "code",
   "execution_count": 6,
   "source": [
    "# Data transformation starts here"
   ],
   "outputs": [],
   "metadata": {}
  },
  {
   "cell_type": "markdown",
   "source": [
    "## Predictive Modelling"
   ],
   "metadata": {}
  },
  {
   "cell_type": "code",
   "execution_count": 7,
   "source": [
    "# Predictive modelling starts here"
   ],
   "outputs": [],
   "metadata": {}
  }
 ],
 "metadata": {
  "kernelspec": {
   "name": "python3",
   "display_name": "Python 3.8.12 64-bit ('predictive': conda)"
  },
  "language_info": {
   "codemirror_mode": {
    "name": "ipython",
    "version": 3
   },
   "file_extension": ".py",
   "mimetype": "text/x-python",
   "name": "python",
   "nbconvert_exporter": "python",
   "pygments_lexer": "ipython3",
   "version": "3.8.12"
  },
  "interpreter": {
   "hash": "716950cba88e4d332b35c8ddd4e849e4d8a5dadfbf33d00dfe2f47b77ad17c80"
  }
 },
 "nbformat": 4,
 "nbformat_minor": 5
}