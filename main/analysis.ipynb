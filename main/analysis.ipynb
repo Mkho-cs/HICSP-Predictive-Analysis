{
 "cells": [
  {
   "cell_type": "markdown",
   "id": "e045c7ce",
   "metadata": {},
   "source": [
    "# Health Insurance Cross Sell Prediction Predictive Analysis"
   ]
  },
  {
   "cell_type": "markdown",
   "id": "d0f2bfee",
   "metadata": {},
   "source": [
    "## Descriptive Analysis"
   ]
  },
  {
   "cell_type": "code",
   "execution_count": 1,
   "id": "81487705",
   "metadata": {},
   "outputs": [],
   "source": [
    "# Descriptive analysis starts here"
   ]
  },
  {
   "cell_type": "markdown",
   "id": "3599ec33",
   "metadata": {},
   "source": [
    "## Data Transformation"
   ]
  },
  {
   "cell_type": "code",
   "execution_count": null,
   "id": "70d9480f",
   "metadata": {},
   "outputs": [],
   "source": [
    "# Data transformation starts here"
   ]
  },
  {
   "cell_type": "markdown",
   "id": "a599e865",
   "metadata": {},
   "source": [
    "## Predictive Modelling"
   ]
  },
  {
   "cell_type": "code",
   "execution_count": null,
   "id": "f58433e5",
   "metadata": {},
   "outputs": [],
   "source": [
    "# Predictive modelling starts here"
   ]
  }
 ],
 "metadata": {
  "kernelspec": {
   "display_name": "Python 3 (ipykernel)",
   "language": "python",
   "name": "python3"
  },
  "language_info": {
   "codemirror_mode": {
    "name": "ipython",
    "version": 3
   },
   "file_extension": ".py",
   "mimetype": "text/x-python",
   "name": "python",
   "nbconvert_exporter": "python",
   "pygments_lexer": "ipython3",
   "version": "3.8.12"
  }
 },
 "nbformat": 4,
 "nbformat_minor": 5
}
